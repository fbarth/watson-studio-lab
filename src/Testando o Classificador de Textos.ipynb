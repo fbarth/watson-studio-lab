{
 "cells": [
  {
   "cell_type": "code",
   "execution_count": 37,
   "metadata": {},
   "outputs": [],
   "source": [
    "# @hidden_cell\n",
    "import json\n",
    "from ibm_watson import NaturalLanguageClassifierV1\n",
    "from ibm_cloud_sdk_core.authenticators import IAMAuthenticator\n",
    "\n",
    "authenticator = IAMAuthenticator('{key}',url='https://iam.cloud.ibm.com/identity/token')\n",
    "nlc = NaturalLanguageClassifierV1(authenticator)\n",
    "nlc.set_default_headers({'url':'https://gateway.watsonplatform.net/natural-language-classifier/api'})"
   ]
  },
  {
   "cell_type": "code",
   "execution_count": null,
   "metadata": {},
   "outputs": [],
   "source": [
    "import json\n",
    "from ibm_watson import NaturalLanguageClassifierV1\n",
    "from ibm_cloud_sdk_core.authenticators import IAMAuthenticator\n",
    "\n",
    "authenticator = IAMAuthenticator('{aim-key}',url='https://iam.cloud.ibm.com/identity/token')\n",
    "nlc = NaturalLanguageClassifierV1(authenticator)\n",
    "nlc.set_default_headers({'url':'https://gateway.watsonplatform.net/natural-language-classifier/api'})"
   ]
  },
  {
   "cell_type": "code",
   "execution_count": 38,
   "metadata": {},
   "outputs": [
    {
     "name": "stdout",
     "output_type": "stream",
     "text": [
      "(126, 2)\n"
     ]
    }
   ],
   "source": [
    "# @hidden_cell\n",
    "import types\n",
    "import pandas as pd\n",
    "from botocore.client import Config\n",
    "import ibm_boto3\n",
    "\n",
    "def __iter__(self): return 0\n",
    "\n",
    "# @hidden_cell\n",
    "# The following code accesses a file in your IBM Cloud Object Storage. It includes your credentials.\n",
    "# You might want to remove those credentials before you share the notebook.\n",
    "client_d583ed9871cd4c0f989be20d8872167e = ibm_boto3.client(service_name='s3',\n",
    "    ibm_api_key_id='UWesfz1VTTZeniaqrn7yuKnXLHifp180n9DtgSaLgowe',\n",
    "    ibm_auth_endpoint=\"https://iam.ng.bluemix.net/oidc/token\",\n",
    "    config=Config(signature_version='oauth'),\n",
    "    endpoint_url='https://s3-api.us-geo.objectstorage.service.networklayer.com')\n",
    "\n",
    "body = client_d583ed9871cd4c0f989be20d8872167e.get_object(Bucket='laboratriowatsonstudio-donotdelete-pr-pbreu1ixybb27s',Key='test_cerveja.csv')['Body']\n",
    "# add missing __iter__ method, so pandas accepts body as file-like object\n",
    "if not hasattr(body, \"__iter__\"): body.__iter__ = types.MethodType( __iter__, body )\n",
    "\n",
    "test = pd.read_csv(body, header=None)\n",
    "test = test.rename(columns={0: \"texto\", 1: \"classe\"})\n",
    "test.head()\n",
    "print(test.shape)"
   ]
  },
  {
   "cell_type": "code",
   "execution_count": 32,
   "metadata": {},
   "outputs": [],
   "source": [
    "predicted = []\n",
    "for i in range(0,test.shape[0]): \n",
    "    classes = nlc.classify('94904ex626-nlc-66',test.iloc[i,0]).get_result()\n",
    "    predicted.append(classes['top_class'])"
   ]
  },
  {
   "cell_type": "code",
   "execution_count": 34,
   "metadata": {},
   "outputs": [
    {
     "data": {
      "text/plain": [
       "['saude',\n",
       " 'ambiente',\n",
       " 'ambiente',\n",
       " 'saude',\n",
       " 'comportamento',\n",
       " 'comportamento',\n",
       " 'conhecimento',\n",
       " 'responsavel',\n",
       " 'ambiente',\n",
       " 'responsavel']"
      ]
     },
     "execution_count": 34,
     "metadata": {},
     "output_type": "execute_result"
    }
   ],
   "source": [
    "predicted[0:10]"
   ]
  },
  {
   "cell_type": "code",
   "execution_count": null,
   "metadata": {},
   "outputs": [],
   "source": []
  }
 ],
 "metadata": {
  "kernelspec": {
   "display_name": "Python 3.6",
   "language": "python",
   "name": "python3"
  },
  "language_info": {
   "codemirror_mode": {
    "name": "ipython",
    "version": 3
   },
   "file_extension": ".py",
   "mimetype": "text/x-python",
   "name": "python",
   "nbconvert_exporter": "python",
   "pygments_lexer": "ipython3",
   "version": "3.6.8"
  }
 },
 "nbformat": 4,
 "nbformat_minor": 1
}
